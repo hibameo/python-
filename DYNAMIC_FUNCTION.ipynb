{
  "nbformat": 4,
  "nbformat_minor": 0,
  "metadata": {
    "colab": {
      "provenance": [],
      "authorship_tag": "ABX9TyNJK4lL1RZEyl5+FXYTPVnX",
      "include_colab_link": true
    },
    "kernelspec": {
      "name": "python3",
      "display_name": "Python 3"
    },
    "language_info": {
      "name": "python"
    }
  },
  "cells": [
    {
      "cell_type": "markdown",
      "metadata": {
        "id": "view-in-github",
        "colab_type": "text"
      },
      "source": [
        "<a href=\"https://colab.research.google.com/github/hibameo/python-/blob/main/DYNAMIC_FUNCTION.ipynb\" target=\"_parent\"><img src=\"https://colab.research.google.com/assets/colab-badge.svg\" alt=\"Open In Colab\"/></a>"
      ]
    },
    {
      "cell_type": "code",
      "execution_count": 13,
      "metadata": {
        "colab": {
          "base_uri": "https://localhost:8080/"
        },
        "id": "W22ecZcWGr-N",
        "outputId": "676fbf54-e571-451f-ecab-27d6d9c8b307"
      },
      "outputs": [
        {
          "output_type": "stream",
          "name": "stdout",
          "text": [
            "Assalam o Alaikum Mam, Hiba, your age is 19.\n"
          ]
        }
      ],
      "source": [
        "def greet(name, age):\n",
        "    print(f\"Assalam o Alaikum Mam, {name}, your age is {age}.\")\n",
        "\n",
        "\n",
        "greet(\"Hiba\", 19)\n"
      ]
    },
    {
      "cell_type": "code",
      "source": [
        "def addition(num1: int, num2: int):\n",
        "    print(f\"The sum of {num1} and {num2} is {num1 + num2}.\")\n",
        "\n",
        "\n",
        "addition(20, 10)\n"
      ],
      "metadata": {
        "colab": {
          "base_uri": "https://localhost:8080/"
        },
        "id": "MV48rFYmHy-5",
        "outputId": "7a847f11-9969-4f59-d789-6444efea4eae"
      },
      "execution_count": 14,
      "outputs": [
        {
          "output_type": "stream",
          "name": "stdout",
          "text": [
            "The sum of 20 and 10 is 30.\n"
          ]
        }
      ]
    },
    {
      "cell_type": "code",
      "source": [
        "def sub(num1, num2):\n",
        "    print(f\"The result of subtracting {num2} from {num1} is {num1 - num2}.\")\n",
        "\n",
        "\n",
        "\n",
        "\n",
        "sub(50, 10)\n",
        "\n",
        ""
      ],
      "metadata": {
        "colab": {
          "base_uri": "https://localhost:8080/"
        },
        "id": "hvCaI9yuIcZL",
        "outputId": "3e7a5628-24f4-4865-f46b-b57e2b7079f0"
      },
      "execution_count": 15,
      "outputs": [
        {
          "output_type": "stream",
          "name": "stdout",
          "text": [
            "The result of subtracting 10 from 50 is 40.\n"
          ]
        }
      ]
    },
    {
      "cell_type": "code",
      "source": [
        "def multiply(num1, num2):\n",
        "    print(f\"The product of {num1} and {num2} is {num1 * num2}.\")\n",
        "\n",
        "\n",
        "\n",
        "multiply(5, 10)\n"
      ],
      "metadata": {
        "colab": {
          "base_uri": "https://localhost:8080/"
        },
        "id": "PIHLbpLfY5cw",
        "outputId": "115b3955-0ad7-4997-eb54-6580fb4ba0b1"
      },
      "execution_count": 16,
      "outputs": [
        {
          "output_type": "stream",
          "name": "stdout",
          "text": [
            "The product of 5 and 10 is 50.\n"
          ]
        }
      ]
    }
  ]
}