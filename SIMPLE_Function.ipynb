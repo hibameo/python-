{
  "nbformat": 4,
  "nbformat_minor": 0,
  "metadata": {
    "colab": {
      "provenance": [],
      "authorship_tag": "ABX9TyNyhk5oPASr27VyTRk0JhFi",
      "include_colab_link": true
    },
    "kernelspec": {
      "name": "python3",
      "display_name": "Python 3"
    },
    "language_info": {
      "name": "python"
    }
  },
  "cells": [
    {
      "cell_type": "markdown",
      "metadata": {
        "id": "view-in-github",
        "colab_type": "text"
      },
      "source": [
        "<a href=\"https://colab.research.google.com/github/hibameo/python-/blob/main/SIMPLE_Function.ipynb\" target=\"_parent\"><img src=\"https://colab.research.google.com/assets/colab-badge.svg\" alt=\"Open In Colab\"/></a>"
      ]
    },
    {
      "cell_type": "code",
      "execution_count": 3,
      "metadata": {
        "colab": {
          "base_uri": "https://localhost:8080/"
        },
        "id": "glvrHydXnNIn",
        "outputId": "0f6acc62-63c0-48ed-958d-323ecdd27166"
      },
      "outputs": [
        {
          "output_type": "stream",
          "name": "stdout",
          "text": [
            "mobile charge\n"
          ]
        }
      ],
      "source": [
        "def charge():\n",
        "      print(\"mobile charge\")\n",
        "\n",
        "\n",
        "charge()"
      ]
    },
    {
      "cell_type": "code",
      "source": [
        "def cook():\n",
        "     print(\"biryani banao\")\n",
        "\n",
        "\n",
        "cook()\n"
      ],
      "metadata": {
        "colab": {
          "base_uri": "https://localhost:8080/"
        },
        "id": "hO6m8FgOnyAp",
        "outputId": "83f4a766-8ebe-4187-a4f3-d57a6c6fe9c9"
      },
      "execution_count": 4,
      "outputs": [
        {
          "output_type": "stream",
          "name": "stdout",
          "text": [
            "biryani banao\n"
          ]
        }
      ]
    },
    {
      "cell_type": "code",
      "source": [
        "def driver():\n",
        "     print(\"car chalao\")\n",
        "\n",
        "\n",
        "driver()\n"
      ],
      "metadata": {
        "colab": {
          "base_uri": "https://localhost:8080/"
        },
        "id": "iIip7YqjoGQj",
        "outputId": "0ddd77d1-9731-47b5-cf59-b395b1ba8760"
      },
      "execution_count": 5,
      "outputs": [
        {
          "output_type": "stream",
          "name": "stdout",
          "text": [
            "car chalao\n"
          ]
        }
      ]
    },
    {
      "cell_type": "code",
      "source": [
        "def nawal():\n",
        "     print(\"khana lao\")\n",
        "\n",
        "nawal()"
      ],
      "metadata": {
        "colab": {
          "base_uri": "https://localhost:8080/"
        },
        "id": "yjvA_vYpoSHh",
        "outputId": "0d598bce-4b1e-4697-c0d9-7855b549f6de"
      },
      "execution_count": 6,
      "outputs": [
        {
          "output_type": "stream",
          "name": "stdout",
          "text": [
            "khana lao\n"
          ]
        }
      ]
    },
    {
      "cell_type": "code",
      "source": [
        "def hiba():\n",
        "     print(\"books lao\")\n",
        "\n",
        "\n",
        "hiba()"
      ],
      "metadata": {
        "colab": {
          "base_uri": "https://localhost:8080/"
        },
        "id": "MW_IjJ8Poe2l",
        "outputId": "6c2f18ff-389a-4338-e48b-b103edac2f78"
      },
      "execution_count": 9,
      "outputs": [
        {
          "output_type": "stream",
          "name": "stdout",
          "text": [
            "books lao\n"
          ]
        }
      ]
    }
  ]
}