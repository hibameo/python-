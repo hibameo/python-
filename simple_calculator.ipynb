{
  "nbformat": 4,
  "nbformat_minor": 0,
  "metadata": {
    "colab": {
      "provenance": [],
      "authorship_tag": "ABX9TyNocmWSBJfYZYmLlvIZtCV/",
      "include_colab_link": true
    },
    "kernelspec": {
      "name": "python3",
      "display_name": "Python 3"
    },
    "language_info": {
      "name": "python"
    }
  },
  "cells": [
    {
      "cell_type": "markdown",
      "metadata": {
        "id": "view-in-github",
        "colab_type": "text"
      },
      "source": [
        "<a href=\"https://colab.research.google.com/github/hibameo/python-/blob/main/simple_calculator.ipynb\" target=\"_parent\"><img src=\"https://colab.research.google.com/assets/colab-badge.svg\" alt=\"Open In Colab\"/></a>"
      ]
    },
    {
      "cell_type": "markdown",
      "source": [
        "## ***simple calculator***"
      ],
      "metadata": {
        "id": "wNI0MUMhcjJL"
      }
    },
    {
      "cell_type": "code",
      "execution_count": 2,
      "metadata": {
        "colab": {
          "base_uri": "https://localhost:8080/"
        },
        "id": "98gxOyzWcHfZ",
        "outputId": "6c335780-9765-485a-b22b-e70a0093cb40"
      },
      "outputs": [
        {
          "output_type": "stream",
          "name": "stdout",
          "text": [
            "Welcome to the Simple Calculator!\n",
            "Select an operation to perform:\n",
            "1. Addition (+)\n",
            "2. Subtraction (-)\n",
            "3. Multiplication (*)\n",
            "4. Division (/)\n",
            "Enter your choice (1/2/3/4): 4\n",
            "Enter the first number: 55\n",
            "Enter the second number: 67\n",
            "The result is: 0.8208955223880597\n"
          ]
        }
      ],
      "source": [
        "\n",
        "def calculator():\n",
        "    print(\"Welcome to the Simple Calculator!\")\n",
        "    print(\"Select an operation to perform:\")\n",
        "    print(\"1. Addition (+)\")\n",
        "    print(\"2. Subtraction (-)\")\n",
        "    print(\"3. Multiplication (*)\")\n",
        "    print(\"4. Division (/)\")\n",
        "\n",
        "    try:\n",
        "\n",
        "        choice = int(input(\"Enter your choice (1/2/3/4): \"))\n",
        "\n",
        "        if choice in [1, 2, 3, 4]:\n",
        "\n",
        "            num1 = float(input(\"Enter the first number: \"))\n",
        "            num2 = float(input(\"Enter the second number: \"))\n",
        "\n",
        "            if choice == 1:\n",
        "                print(f\"The result is: {num1 + num2}\")\n",
        "            elif choice == 2:\n",
        "                print(f\"The result is: {num1 - num2}\")\n",
        "            elif choice == 3:\n",
        "                print(f\"The result is: {num1 * num2}\")\n",
        "            elif choice == 4:\n",
        "                if num2 != 0:\n",
        "                    print(f\"The result is: {num1 / num2}\")\n",
        "                else:\n",
        "                    print(\"Error: Division by zero is not allowed!\")\n",
        "        else:\n",
        "            print(\"Invalid choice! Please select a valid operation.\")\n",
        "    except ValueError:\n",
        "        print(\"Invalid input! Please enter numeric values only.\")\n",
        "\n",
        "\n",
        "calculator()\n"
      ]
    }
  ]
}